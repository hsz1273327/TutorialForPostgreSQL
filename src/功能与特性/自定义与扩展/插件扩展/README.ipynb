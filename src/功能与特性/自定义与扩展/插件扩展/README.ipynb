{
 "cells": [
  {
   "cell_type": "markdown",
   "metadata": {},
   "source": [
    "# 插件扩展\n",
    "\n",
    "PostgreSQL被设计成很容易扩展,由于这个原因,被载入到数据库中的扩展可以像内建特性那样运行.源码库种的`contrib/`目录中包含了多个扩展的源码,我们前文介绍的`pg_trgm`便在其中.而更有许多优质的第三方扩展,他们的开发是独立进行的,例如`PostGIS`以及前面介绍的分词扩展`pg_jieba`.\n",
    "\n",
    "pg的扩展一般是3个部分组成:\n",
    "\n",
    "+ 一个动态链接库用于实现功能,放在`pg_config  --pkglibdir`指定的目录下\n",
    "+ `extension_name.control`控制文件,声明该扩展的基础信息,放在`pg_config --sharedir`指定的目录下\n",
    "+ `extension--version.sql`加载扩展所需要执行的SQL文件,放在`pg_config --sharedir`指定的目录下\n",
    "\n",
    "\n",
    "\n",
    "在配置项`shared_preload_libraries`中可以指定需要预先加载的动态链接库,而使用扩展则需要链接上服务器后使用[CREATE EXTENSION](http://postgres.cn/docs/12/sql-createextension.html)语句:\n",
    "\n",
    "```sql\n",
    "CREATE EXTENSION IF NOT EXISTS extension_name\n",
    "```\n",
    "\n",
    "这部分我们来介绍一些常用的实用插件."
   ]
  }
 ],
 "metadata": {
  "kernelspec": {
   "display_name": "PostgreSQL",
   "language": "sql",
   "name": "postgres"
  },
  "language_info": {
   "file_extension": ".sql",
   "help_links": [
    {
     "text": "PostgreSQL",
     "url": "http://www.postgres.cn/docs/12/index.html"
    },
    {
     "text": "SQL",
     "url": "https://blog.hszofficial.site/TutorialForSQL/#/"
    },
    {
     "text": "MetaKernel Magics",
     "url": "https://metakernel.readthedocs.io/en/latest/source/README.html"
    }
   ],
   "mimetype": "text/x-sql",
   "name": "sql",
   "version": "unknown"
  },
  "toc": {
   "base_numbering": 1,
   "nav_menu": {},
   "number_sections": true,
   "sideBar": true,
   "skip_h1_title": false,
   "title_cell": "Table of Contents",
   "title_sidebar": "Contents",
   "toc_cell": false,
   "toc_position": {},
   "toc_section_display": true,
   "toc_window_display": false
  },
  "varInspector": {
   "cols": {
    "lenName": 16,
    "lenType": 16,
    "lenVar": 40
   },
   "kernels_config": {
    "python": {
     "delete_cmd_postfix": "",
     "delete_cmd_prefix": "del ",
     "library": "var_list.py",
     "varRefreshCmd": "print(var_dic_list())"
    },
    "r": {
     "delete_cmd_postfix": ") ",
     "delete_cmd_prefix": "rm(",
     "library": "var_list.r",
     "varRefreshCmd": "cat(var_dic_list()) "
    }
   },
   "types_to_exclude": [
    "module",
    "function",
    "builtin_function_or_method",
    "instance",
    "_Feature"
   ],
   "window_display": false
  }
 },
 "nbformat": 4,
 "nbformat_minor": 4
}
