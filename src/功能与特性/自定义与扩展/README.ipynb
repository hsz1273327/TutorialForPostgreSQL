{
 "cells": [
  {
   "cell_type": "markdown",
   "metadata": {},
   "source": [
    "# 自定义和扩展\n",
    "\n",
    "postgresql是典型的学院派设计思路下的产物,它的内部内置了大量可以自定义的功能,而它的模块化设计让他极易扩展,因此也诞生了一大批极其优秀的pg扩展,这些共同构建了pg生态的基石.\n",
    "\n",
    "我为什么更加推荐使用pg而非更加流行的mysql?就是因为你可以借助这些自定义和扩展完成原本需要换个软件才能做的事,这样你只需要一个pg加一些必要的扩展就可以在数据规模不大的情况下通吃几乎所有场景."
   ]
  },
  {
   "cell_type": "markdown",
   "metadata": {},
   "source": [
    "## pg可定制和扩展的方面\n",
    "\n",
    "pg可以定制的内容主要包括:\n",
    "\n",
    "1. 自定义数据类型\n",
    "2. 自定过程\n",
    "3. 自定义函数\n",
    "4. 自定义触发器\n",
    "5. 自定义外部数据封装器\n",
    "\n",
    "当然除了上面的内容外还有定制索引,定制聚集,定制运算符等,本文不做详细介绍.\n",
    "\n",
    "将围绕特定功能的这些自定义部分打包发布的定制物集合被称为扩展.\n",
    "\n",
    "本文将从如何自定义各种可扩展内容开始介绍pg的自定义和扩展"
   ]
  }
 ],
 "metadata": {
  "kernelspec": {
   "display_name": "PostgreSQL",
   "language": "sql",
   "name": "postgresql"
  },
  "language_info": {
   "file_extension": ".sql",
   "help_links": [
    {
     "text": "PostgreSQL",
     "url": "http://www.postgres.cn/docs/12/index.html"
    },
    {
     "text": "SQL",
     "url": "https://blog.hszofficial.site/TutorialForSQL/#/"
    },
    {
     "text": "MetaKernel Magics",
     "url": "https://metakernel.readthedocs.io/en/latest/source/README.html"
    }
   ],
   "mimetype": "text/x-sql",
   "name": "sql",
   "version": "unknown"
  }
 },
 "nbformat": 4,
 "nbformat_minor": 2
}
