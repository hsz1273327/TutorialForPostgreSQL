{
 "cells": [
  {
   "cell_type": "markdown",
   "metadata": {},
   "source": [
    "# 功能与特性\n",
    "\n",
    "postgresql在根上来说是一个关系型数据库.它在使用上还是和一般关系数据库一样的.pg支持完整的SQL语法.通常关系数据库中的概念:\n",
    "\n",
    "+ database\n",
    "+ schema\n",
    "+ 表\n",
    "+ 行\n",
    "+ 索引\n",
    "+ 约束\n",
    "+ 视图\n",
    "\n",
    "这些它都支持.除此之外pg还支持触发器\n",
    "\n",
    "通用的部分可以查看我之前写的[SQL攻略](https://blog.hszofficial.site/TutorialForSQL/#/)本文将只讲pg的特殊概念和概念中的特殊部分.\n",
    "\n",
    "本部分分为两个模块:\n",
    "\n",
    "+ `特色功能`介绍pg作为一个关系型数据库的特性及其用法\n",
    "+ `自定义与扩展`介绍pg的扩展能力"
   ]
  }
 ],
 "metadata": {
  "kernelspec": {
   "display_name": "PostgreSQL",
   "language": "sql",
   "name": "postgres"
  },
  "language_info": {
   "file_extension": ".sql",
   "help_links": [
    {
     "text": "PostgreSQL",
     "url": "http://www.postgres.cn/docs/12/index.html"
    },
    {
     "text": "SQL",
     "url": "https://blog.hszofficial.site/TutorialForSQL/#/"
    },
    {
     "text": "MetaKernel Magics",
     "url": "https://metakernel.readthedocs.io/en/latest/source/README.html"
    }
   ],
   "mimetype": "text/x-sql",
   "name": "sql",
   "version": "unknown"
  },
  "toc": {
   "base_numbering": 1,
   "nav_menu": {},
   "number_sections": true,
   "sideBar": true,
   "skip_h1_title": false,
   "title_cell": "Table of Contents",
   "title_sidebar": "Contents",
   "toc_cell": false,
   "toc_position": {},
   "toc_section_display": true,
   "toc_window_display": false
  },
  "varInspector": {
   "cols": {
    "lenName": 16,
    "lenType": 16,
    "lenVar": 40
   },
   "kernels_config": {
    "python": {
     "delete_cmd_postfix": "",
     "delete_cmd_prefix": "del ",
     "library": "var_list.py",
     "varRefreshCmd": "print(var_dic_list())"
    },
    "r": {
     "delete_cmd_postfix": ") ",
     "delete_cmd_prefix": "rm(",
     "library": "var_list.r",
     "varRefreshCmd": "cat(var_dic_list()) "
    }
   },
   "types_to_exclude": [
    "module",
    "function",
    "builtin_function_or_method",
    "instance",
    "_Feature"
   ],
   "window_display": false
  }
 },
 "nbformat": 4,
 "nbformat_minor": 2
}
