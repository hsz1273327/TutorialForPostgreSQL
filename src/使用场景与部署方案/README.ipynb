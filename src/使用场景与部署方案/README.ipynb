{
 "cells": [
  {
   "cell_type": "markdown",
   "metadata": {},
   "source": [
    "# 使用场景与部署方案\n",
    "\n",
    "PostgreSQL虽好但它也不是一招鲜吃遍天下的东西,即便在它能力范围内也需要适当调整使用方法来适应场景.好在对于极易扩展的pg来说这并不难.\n",
    "\n",
    "这部分的内容我将针对项目[Basic-Components/pg-allinone](https://github.com/Basic-Components/pg-allinone)来介绍.这个项目中我已经将需要的插件都装好了.届时每一种场景下不同的部署方案我也会提供docker-compose让读者可以单机模拟部署.\n"
   ]
  }
 ],
 "metadata": {
  "kernelspec": {
   "display_name": "PostgreSQL",
   "language": "sql",
   "name": "postgresql"
  },
  "language_info": {
   "file_extension": ".sql",
   "help_links": [
    {
     "text": "PostgreSQL",
     "url": "http://www.postgres.cn/docs/12/index.html"
    },
    {
     "text": "SQL",
     "url": "https://blog.hszofficial.site/TutorialForSQL/#/"
    },
    {
     "text": "MetaKernel Magics",
     "url": "https://metakernel.readthedocs.io/en/latest/source/README.html"
    }
   ],
   "mimetype": "text/x-sql",
   "name": "sql",
   "version": "unknown"
  },
  "toc": {
   "base_numbering": 1,
   "nav_menu": {},
   "number_sections": true,
   "sideBar": true,
   "skip_h1_title": false,
   "title_cell": "Table of Contents",
   "title_sidebar": "Contents",
   "toc_cell": false,
   "toc_position": {},
   "toc_section_display": true,
   "toc_window_display": false
  },
  "varInspector": {
   "cols": {
    "lenName": 16,
    "lenType": 16,
    "lenVar": 40
   },
   "kernels_config": {
    "python": {
     "delete_cmd_postfix": "",
     "delete_cmd_prefix": "del ",
     "library": "var_list.py",
     "varRefreshCmd": "print(var_dic_list())"
    },
    "r": {
     "delete_cmd_postfix": ") ",
     "delete_cmd_prefix": "rm(",
     "library": "var_list.r",
     "varRefreshCmd": "cat(var_dic_list()) "
    }
   },
   "types_to_exclude": [
    "module",
    "function",
    "builtin_function_or_method",
    "instance",
    "_Feature"
   ],
   "window_display": false
  }
 },
 "nbformat": 4,
 "nbformat_minor": 2
}
