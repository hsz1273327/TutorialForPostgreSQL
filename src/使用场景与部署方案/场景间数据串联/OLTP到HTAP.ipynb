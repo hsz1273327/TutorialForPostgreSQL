{
 "cells": [
  {
   "cell_type": "markdown",
   "metadata": {},
   "source": [
    "# OLTP到HTAP\n",
    "\n",
    "需要数据从OLTP到HTAP同步的场景通常都是一些业务数据,这类数据的特点是可更改.因此我们通常会利用数据库的`变更数据捕捉`机制(`Change Data Capture`,简称`CDC`)尽量实时的同步数据到HTAP数据库中.\n",
    "\n",
    "`CDC`是一种流同步,目前比较推荐的工具是[Debezium](https://github.com/debezium).\n",
    "\n",
    "## Debezium\n",
    "\n",
    "Debezium并不能单独的完成从一个数据库同步数据到另一个数据库的功能,它的作用其实是从待同步数据库中抽取表的变更信息,结构化后发送到kafka中.\n",
    "\n",
    "这个模式的优势是`灵活可扩展`.毕竟我们的OLTP数据库并不一定只会用pg.`Debezium`支持几乎目前所有主流的数据库系统,包括nosql数据库系统.同时由于产出的是kafka上的消息,在灌入数据到目标数据库时就相当灵活了,目标数据库可以是pg也可以是clickhouse,hbase等,甚至我们还可以保存变更消息本身而不光是变更后的结果到库中留档.\n"
   ]
  }
 ],
 "metadata": {
  "kernelspec": {
   "display_name": "PostgreSQL",
   "language": "sql",
   "name": "postgresql"
  },
  "language_info": {
   "file_extension": ".sql",
   "help_links": [
    {
     "text": "PostgreSQL",
     "url": "http://www.postgres.cn/docs/12/index.html"
    },
    {
     "text": "SQL",
     "url": "https://blog.hszofficial.site/TutorialForSQL/#/"
    },
    {
     "text": "MetaKernel Magics",
     "url": "https://metakernel.readthedocs.io/en/latest/source/README.html"
    }
   ],
   "mimetype": "text/x-sql",
   "name": "sql",
   "version": "unknown"
  },
  "toc": {
   "base_numbering": 1,
   "nav_menu": {},
   "number_sections": true,
   "sideBar": true,
   "skip_h1_title": false,
   "title_cell": "Table of Contents",
   "title_sidebar": "Contents",
   "toc_cell": false,
   "toc_position": {},
   "toc_section_display": true,
   "toc_window_display": false
  },
  "varInspector": {
   "cols": {
    "lenName": 16,
    "lenType": 16,
    "lenVar": 40
   },
   "kernels_config": {
    "python": {
     "delete_cmd_postfix": "",
     "delete_cmd_prefix": "del ",
     "library": "var_list.py",
     "varRefreshCmd": "print(var_dic_list())"
    },
    "r": {
     "delete_cmd_postfix": ") ",
     "delete_cmd_prefix": "rm(",
     "library": "var_list.r",
     "varRefreshCmd": "cat(var_dic_list()) "
    }
   },
   "types_to_exclude": [
    "module",
    "function",
    "builtin_function_or_method",
    "instance",
    "_Feature"
   ],
   "window_display": false
  }
 },
 "nbformat": 4,
 "nbformat_minor": 2
}
