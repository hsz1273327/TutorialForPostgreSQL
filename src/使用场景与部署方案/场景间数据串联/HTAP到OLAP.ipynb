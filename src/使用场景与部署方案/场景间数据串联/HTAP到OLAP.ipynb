{
 "cells": [
  {
   "cell_type": "markdown",
   "metadata": {},
   "source": [
    "# HTAP到OLAP\n",
    "\n",
    "HTAP数据库中通常保存的是监控业务的数据,也就是说通常都有时间这个维度的信息,且相对比较敏感.而OLAP数据库更多的需求是尽量便宜的留档和尽量保存更大时间范围内的数据.由于OLAP数据库通常用处就是:\n",
    "\n",
    "1. 使用大时间跨度数据做报表\n",
    "2. 在大时间跨度数据上做数据挖掘\n",
    "3. 构造特征用于构造模型\n",
    "\n",
    "## 处理思路\n",
    "\n",
    "HTAP数据库中一般保存的数据可以分为如下几类,他们通常需要:\n",
    "\n",
    "+ 当前的业务数据--做当前时间切面\n",
    "+ 一段时间内的行为数据"
   ]
  }
 ],
 "metadata": {
  "kernelspec": {
   "display_name": "PostgreSQL",
   "language": "sql",
   "name": "postgresql"
  },
  "language_info": {
   "file_extension": ".sql",
   "help_links": [
    {
     "text": "PostgreSQL",
     "url": "http://www.postgres.cn/docs/12/index.html"
    },
    {
     "text": "SQL",
     "url": "https://blog.hszofficial.site/TutorialForSQL/#/"
    },
    {
     "text": "MetaKernel Magics",
     "url": "https://metakernel.readthedocs.io/en/latest/source/README.html"
    }
   ],
   "mimetype": "text/x-sql",
   "name": "sql",
   "version": "unknown"
  },
  "toc": {
   "base_numbering": 1,
   "nav_menu": {},
   "number_sections": true,
   "sideBar": true,
   "skip_h1_title": false,
   "title_cell": "Table of Contents",
   "title_sidebar": "Contents",
   "toc_cell": false,
   "toc_position": {},
   "toc_section_display": true,
   "toc_window_display": false
  },
  "varInspector": {
   "cols": {
    "lenName": 16,
    "lenType": 16,
    "lenVar": 40
   },
   "kernels_config": {
    "python": {
     "delete_cmd_postfix": "",
     "delete_cmd_prefix": "del ",
     "library": "var_list.py",
     "varRefreshCmd": "print(var_dic_list())"
    },
    "r": {
     "delete_cmd_postfix": ") ",
     "delete_cmd_prefix": "rm(",
     "library": "var_list.r",
     "varRefreshCmd": "cat(var_dic_list()) "
    }
   },
   "types_to_exclude": [
    "module",
    "function",
    "builtin_function_or_method",
    "instance",
    "_Feature"
   ],
   "window_display": false
  }
 },
 "nbformat": 4,
 "nbformat_minor": 2
}
